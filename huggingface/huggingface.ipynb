{
 "cells": [
  {
   "cell_type": "code",
   "execution_count": 23,
   "metadata": {},
   "outputs": [],
   "source": [
    "from langchain_community.document_loaders import PyPDFLoader\n",
    "from langchain_community.document_loaders import PyPDFDirectoryLoader\n",
    "from langchain_text_splitters import RecursiveCharacterTextSplitter\n",
    "from langchain_community.embeddings import HuggingFaceBgeEmbeddings\n",
    "\n",
    "from langchain.vectorstores import FAISS\n",
    "from langchain.prompts import PromptTemplate\n",
    "\n",
    "from langchain.chains import RetrievalQA"
   ]
  },
  {
   "cell_type": "code",
   "execution_count": 3,
   "metadata": {},
   "outputs": [
    {
     "data": {
      "text/plain": [
       "Document(metadata={'source': 'us census/acsbr-015.pdf', 'page': 0}, page_content='Health Insurance Coverage Status and Type \\nby Geography: 2021 and 2022\\nAmerican Community Survey Briefs\\nACSBR-015\\nIssued September 2023\\nDouglas Conway and Breauna Branch\\nINTRODUCTION\\nDemographic shifts as well as economic and govern-\\nment policy changes can affect people’s access to \\nhealth coverage. For example, between 2021 and 2022, \\nthe labor market continued to improve, which may \\nhave affected private coverage in the United States \\nduring that time.1 Public policy changes included \\nthe renewal of the Public Health Emergency, which \\nallowed Medicaid enrollees to remain covered under \\nthe Continuous Enrollment Provision.2 The American \\nRescue Plan (ARP) enhanced Marketplace premium \\nsubsidies for those with incomes above 400 percent \\nof the poverty level as well as for unemployed people.3\\nIn addition to national policies, individual states and \\nthe District of Columbia can affect health insurance \\ncoverage by making Marketplace or Medicaid more')"
      ]
     },
     "execution_count": 3,
     "metadata": {},
     "output_type": "execute_result"
    }
   ],
   "source": [
    "loader = PyPDFDirectoryLoader(\"us census\")\n",
    "documents = loader.load()\n",
    "text_splitter = RecursiveCharacterTextSplitter(chunk_size = 1000,chunk_overlap=200)\n",
    "final_documents = text_splitter.split_documents(documents)\n",
    "final_documents[0]"
   ]
  },
  {
   "cell_type": "code",
   "execution_count": 6,
   "metadata": {},
   "outputs": [
    {
     "name": "stderr",
     "output_type": "stream",
     "text": [
      "/Users/uditsevak/Desktop/Langchain/.venv/lib/python3.12/site-packages/tqdm/auto.py:21: TqdmWarning: IProgress not found. Please update jupyter and ipywidgets. See https://ipywidgets.readthedocs.io/en/stable/user_install.html\n",
      "  from .autonotebook import tqdm as notebook_tqdm\n"
     ]
    }
   ],
   "source": [
    "huggingface_embeddings=HuggingFaceBgeEmbeddings(\n",
    "    model_name=\"sentence-transformers/all-MiniLM-l6-v2\",\n",
    "    model_kwargs = {'device':'cpu'},\n",
    "    encode_kwargs = {'normalize_embeddings':True}\n",
    ")"
   ]
  },
  {
   "cell_type": "code",
   "execution_count": 7,
   "metadata": {},
   "outputs": [
    {
     "data": {
      "text/plain": [
       "array([-2.49750614e-02,  7.48802116e-03,  6.07665330e-02,  2.87433639e-02,\n",
       "        7.38343969e-02,  1.22540504e-01, -1.49952294e-02, -7.34638376e-03,\n",
       "       -1.00141130e-01, -1.65566464e-03, -1.06490869e-02,  9.63608995e-02,\n",
       "       -2.55548228e-02, -1.02058508e-01,  1.60375908e-02,  1.36243403e-02,\n",
       "        1.47681180e-02, -3.22496146e-02, -2.84116473e-02,  8.82342607e-02,\n",
       "       -3.01535334e-02,  2.01462768e-02, -5.24295159e-02, -3.65702272e-03,\n",
       "        1.23102451e-02,  5.61479479e-03,  4.09073830e-02, -1.13198033e-03,\n",
       "       -9.47217457e-03,  6.47103265e-02,  8.98134485e-02, -5.35426568e-03,\n",
       "        2.55072489e-02,  1.17485831e-02,  2.94315275e-02, -4.34862487e-02,\n",
       "       -3.71153690e-02,  2.39202939e-02, -9.60925967e-02,  1.52798612e-02,\n",
       "       -3.21496204e-02, -4.64301407e-02, -8.10123980e-02,  1.04659691e-01,\n",
       "        2.16493048e-02, -1.19758991e-03, -4.37056795e-02,  8.71711299e-02,\n",
       "       -1.37320729e-02,  5.47636859e-02,  7.84215808e-04,  3.08593400e-02,\n",
       "        3.65715474e-02,  1.41634280e-02,  1.16748018e-02, -3.02507356e-02,\n",
       "       -3.20118740e-02, -2.99772639e-02, -2.04795823e-02, -1.95128995e-03,\n",
       "       -1.50643419e-02, -2.05804147e-02,  1.52343484e-02,  3.89632620e-02,\n",
       "       -5.46766147e-02,  4.73910794e-02,  1.70814316e-03, -1.46486070e-02,\n",
       "        3.11814081e-02, -3.83572318e-02, -4.91325781e-02, -2.09213775e-02,\n",
       "       -2.54122335e-02, -7.96687976e-03,  8.35762471e-02, -7.59056490e-03,\n",
       "        3.69130597e-02,  4.13234867e-02,  1.19046211e-01, -3.27458493e-02,\n",
       "        1.48656406e-02, -6.54279739e-02, -1.05254492e-02,  3.96321341e-02,\n",
       "       -5.40454984e-02,  1.00387121e-02, -4.64251414e-02, -5.11062220e-02,\n",
       "        9.88638494e-03, -1.18499465e-01,  7.05945715e-02,  1.54744592e-02,\n",
       "        8.27157684e-03,  1.31366430e-02,  1.19081931e-02, -2.07044650e-02,\n",
       "       -1.69925261e-02, -6.02724962e-02, -2.08243746e-02,  5.53834904e-03,\n",
       "       -2.71230773e-03, -6.91383928e-02,  2.01455019e-02, -3.06654605e-03,\n",
       "       -4.13903520e-02, -1.07717782e-01,  1.33660110e-02, -1.57036800e-02,\n",
       "        3.23976902e-03,  6.58044964e-02,  5.30168302e-02, -2.36006267e-02,\n",
       "        1.92057993e-02,  5.99613320e-03, -2.53138691e-03, -4.61637005e-02,\n",
       "       -1.90670148e-03, -4.01330665e-02,  3.05307955e-02,  1.72474459e-02,\n",
       "       -9.41705517e-03, -4.21575364e-03, -4.03608009e-02, -5.00293225e-02,\n",
       "        5.18209999e-03,  1.53470843e-03, -3.13613713e-02,  4.45855273e-33,\n",
       "        7.05625787e-02, -3.82768475e-02,  5.00391088e-02,  1.24038495e-02,\n",
       "       -1.54031897e-02, -4.16423790e-02,  2.07275786e-02, -8.72039050e-02,\n",
       "        6.72315732e-02, -2.39870008e-02, -5.29506579e-02,  1.81571636e-02,\n",
       "        3.81965190e-02,  1.22063108e-01,  3.00110597e-03, -3.23769115e-02,\n",
       "       -6.58629611e-02,  7.23681524e-02, -4.97033224e-02,  1.00123435e-01,\n",
       "       -4.19448055e-02,  5.24053071e-03,  1.59593206e-02, -9.39966645e-03,\n",
       "       -5.97727997e-03,  2.79488135e-02,  2.69740680e-03, -4.66504358e-02,\n",
       "        2.17497200e-02,  6.88357092e-03, -3.56852054e-03,  6.54859915e-02,\n",
       "       -1.89461093e-02, -3.98770832e-02,  1.82406337e-03,  3.94455083e-02,\n",
       "       -8.79019033e-03,  8.79287906e-03, -8.73595178e-02, -4.51568328e-02,\n",
       "       -6.23033270e-02,  2.71834247e-02,  8.41115713e-02,  6.63454235e-02,\n",
       "        8.43282640e-02, -4.14329022e-02,  3.82149429e-03, -8.85821006e-04,\n",
       "       -3.26247439e-02,  8.33771471e-03, -2.67041139e-02,  8.41678008e-02,\n",
       "       -4.25848328e-02, -6.34718537e-02,  3.71345854e-03, -5.27669191e-02,\n",
       "       -7.04811513e-02, -3.72166210e-03,  2.11140253e-02, -1.99389420e-02,\n",
       "        4.76712361e-02, -3.05579957e-02,  8.15320015e-02, -7.67673999e-02,\n",
       "        1.66058410e-02,  8.97502825e-02, -1.12814046e-02, -6.01417981e-02,\n",
       "        2.02507339e-02,  8.37027058e-02,  3.71146128e-02,  5.40403165e-02,\n",
       "       -2.16064900e-02,  3.87594290e-02, -2.43161768e-02,  1.70513485e-02,\n",
       "       -2.15578582e-02,  9.84525587e-03,  8.30672979e-02,  1.96213145e-02,\n",
       "       -1.74338650e-02, -4.40143235e-02,  2.43461709e-02,  1.44547010e-02,\n",
       "        8.57211873e-02,  1.49238333e-02,  2.56076306e-02,  4.42071594e-02,\n",
       "       -2.24990724e-03, -1.39350161e-01, -2.45772377e-02,  4.02442515e-02,\n",
       "        2.92534009e-03,  3.22252326e-02,  8.27856883e-02, -6.19395083e-33,\n",
       "       -3.66582945e-02, -3.60290776e-03, -5.69172483e-03, -4.80718613e-02,\n",
       "       -1.46823395e-02, -6.44085854e-02,  3.34912091e-02, -1.30951032e-02,\n",
       "        9.83089209e-02, -4.25486416e-02, -3.37414779e-02, -2.27691308e-02,\n",
       "        7.26434886e-02,  7.05801919e-02, -9.99408513e-02, -2.26399489e-02,\n",
       "       -3.48348245e-02, -1.03138030e-01, -5.32539859e-02,  4.53528948e-02,\n",
       "       -1.12901796e-02,  7.60161085e-04, -3.32050808e-02,  5.26724569e-02,\n",
       "        2.06465796e-02,  1.71729922e-02, -4.02070694e-02,  2.32512392e-02,\n",
       "        9.40849409e-02, -1.41361684e-01, -2.54200939e-02,  3.05798538e-02,\n",
       "       -5.03353439e-02,  5.74297719e-02, -4.47105877e-02,  5.24026249e-03,\n",
       "        1.76494941e-02, -1.21437581e-02, -2.18827426e-02, -7.88027346e-02,\n",
       "        1.31998226e-01, -7.26780146e-02,  1.65518597e-02,  5.23364320e-02,\n",
       "        2.92652082e-02,  4.34946343e-02,  4.92822900e-02,  2.58085076e-02,\n",
       "       -8.29383060e-02, -6.57493575e-03, -1.66800115e-02, -3.18913236e-02,\n",
       "        1.10294092e-02,  1.31360024e-01, -8.22447427e-03, -3.59332152e-02,\n",
       "        1.87692009e-02, -1.02143787e-01, -1.15793817e-01, -8.09533615e-03,\n",
       "       -1.08944597e-02,  5.31010516e-02, -2.25734077e-02,  5.15004471e-02,\n",
       "       -1.61312632e-02, -7.02152178e-02,  3.58266197e-02, -1.12346157e-01,\n",
       "        1.74996480e-02, -8.19431096e-02, -2.44882107e-02, -7.89902806e-02,\n",
       "       -4.91767488e-02, -1.10988759e-01,  3.20481844e-02,  6.16376428e-03,\n",
       "        2.77137067e-02,  5.23369424e-02, -4.15415540e-02,  4.27874736e-02,\n",
       "        9.57144052e-03, -6.44378960e-02, -6.63021132e-02,  3.27323973e-02,\n",
       "       -4.43197191e-02,  3.55295949e-02, -1.73500963e-02, -7.69361556e-02,\n",
       "       -3.44947316e-02,  1.04348131e-01, -1.44309118e-01,  7.76462331e-02,\n",
       "       -1.03851900e-01,  1.00203797e-04, -8.46536309e-02, -4.82989968e-08,\n",
       "        6.56000152e-02,  9.77826342e-02, -2.59312391e-02, -3.76055613e-02,\n",
       "        4.32578549e-02, -4.25491668e-02, -9.04059485e-02,  9.43256542e-03,\n",
       "        3.64887970e-03,  1.94011368e-02,  1.55142592e-02,  1.50931358e-01,\n",
       "        3.69089805e-02, -5.79543673e-02,  1.38939144e-02,  2.11469568e-02,\n",
       "        1.34786312e-02,  5.49675412e-02, -6.92087552e-03,  1.47157954e-02,\n",
       "       -6.83918297e-02,  5.03088124e-02, -7.29045505e-03, -2.48285383e-03,\n",
       "       -1.65298525e-02,  1.29618526e-01, -4.78451960e-02, -2.88331006e-02,\n",
       "        5.97897805e-02,  5.46902092e-03, -1.42096449e-03,  1.37665437e-03,\n",
       "        2.79145446e-02, -2.49764696e-02, -2.28186678e-02, -1.03492830e-02,\n",
       "       -9.57083143e-03, -1.11974413e-02,  7.49549866e-02, -5.84025234e-02,\n",
       "        8.01693648e-02,  3.89268510e-02, -1.91173684e-02,  1.44242886e-02,\n",
       "        1.22189056e-03, -1.26780838e-01, -4.25466113e-02, -4.69727442e-02,\n",
       "        3.97011917e-03, -4.31556739e-02, -5.66337630e-02, -4.99480329e-02,\n",
       "        8.98909420e-02, -3.82306129e-02,  6.11491986e-02, -1.33628061e-03,\n",
       "       -2.76628062e-02, -6.02274574e-02,  1.41925039e-02,  7.80741423e-02,\n",
       "        1.06776692e-03, -7.39808083e-02, -5.84004335e-02,  9.58032459e-02])"
      ]
     },
     "execution_count": 7,
     "metadata": {},
     "output_type": "execute_result"
    }
   ],
   "source": [
    "import numpy as np\n",
    "np.array(huggingface_embeddings.embed_query(final_documents[0].page_content))\n"
   ]
  },
  {
   "cell_type": "code",
   "execution_count": 8,
   "metadata": {},
   "outputs": [],
   "source": [
    "vectorstore=FAISS.from_documents(final_documents[:120],huggingface_embeddings)"
   ]
  },
  {
   "cell_type": "code",
   "execution_count": 9,
   "metadata": {},
   "outputs": [
    {
     "name": "stdout",
     "output_type": "stream",
     "text": [
      "2 U.S. Census Bureau\n",
      "WHAT IS HEALTH INSURANCE COVERAGE?\n",
      "This brief presents state-level estimates of health insurance coverage \n",
      "using data from the American Community Survey (ACS). The  \n",
      "U.S. Census Bureau conducts the ACS throughout the year; the \n",
      "survey asks respondents to report their coverage at the time of \n",
      "interview. The resulting measure of health insurance coverage, \n",
      "therefore, reflects an annual average of current comprehensive \n",
      "health insurance coverage status.* This uninsured rate measures a \n",
      "different concept than the measure based on the Current Population \n",
      "Survey Annual Social and Economic Supplement (CPS ASEC). \n",
      "For reporting purposes, the ACS broadly classifies health insurance \n",
      "coverage as private insurance or public insurance. The ACS defines \n",
      "private health insurance as a plan provided through an employer \n",
      "or a union, coverage purchased directly by an individual from an \n",
      "insurance company or through an exchange (such as healthcare.\n"
     ]
    }
   ],
   "source": [
    "query=\"WHAT IS HEALTH INSURANCE COVERAGE?\"\n",
    "relevant_docments=vectorstore.similarity_search(query)\n",
    "\n",
    "print(relevant_docments[0].page_content)"
   ]
  },
  {
   "cell_type": "code",
   "execution_count": 10,
   "metadata": {},
   "outputs": [
    {
     "name": "stdout",
     "output_type": "stream",
     "text": [
      "tags=['FAISS', 'HuggingFaceBgeEmbeddings'] vectorstore=<langchain_community.vectorstores.faiss.FAISS object at 0x306f8b1a0> search_kwargs={'k': 3}\n"
     ]
    }
   ],
   "source": [
    "retriever=vectorstore.as_retriever(search_type=\"similarity\",search_kwargs={\"k\":3})\n",
    "print(retriever)"
   ]
  },
  {
   "cell_type": "code",
   "execution_count": 18,
   "metadata": {},
   "outputs": [],
   "source": [
    "import os\n",
    "from dotenv import load_dotenv\n",
    "load_dotenv(override=True)\n",
    "os.environ['HUGGINGFACEHUB_API_TOKEN']=os.getenv(\"HUGGINGFACE_API_TOKEN\")"
   ]
  },
  {
   "cell_type": "code",
   "execution_count": 19,
   "metadata": {},
   "outputs": [
    {
     "data": {
      "text/plain": [
       "'What is the health insurance coverage?\\n\\nThe health insurance coverage is a contract between the insured and the insurance company. The insured pays a premium to the insurance company in exchange for the insurance company’s promise to pay for the insured’s medical expenses.\\n\\nWhat is the health insurance coverage?\\n\\nThe health insurance coverage is a contract between the insured and the insurance company. The insured pays a premium to the insurance company in exchange for the insurance company’s promise to pay for the insured'"
      ]
     },
     "execution_count": 19,
     "metadata": {},
     "output_type": "execute_result"
    }
   ],
   "source": [
    "from langchain_community.llms import HuggingFaceHub\n",
    "\n",
    "hf=HuggingFaceHub(\n",
    "    repo_id=\"mistralai/Mistral-7B-v0.1\",\n",
    "    model_kwargs={\"temperature\":0.1,\"max_length\":500}\n",
    "\n",
    ")\n",
    "query=\"What is the health insurance coverage?\"\n",
    "hf.invoke(query)"
   ]
  },
  {
   "cell_type": "code",
   "execution_count": 21,
   "metadata": {},
   "outputs": [],
   "source": [
    "prompt_template=\"\"\"\n",
    "Use the following piece of context to answer the question asked.\n",
    "Please try to provide the answer only based on the context\n",
    "\n",
    "{context}\n",
    "Question:{question}\n",
    "\n",
    "Helpful Answers:\n",
    " \"\"\""
   ]
  },
  {
   "cell_type": "code",
   "execution_count": 24,
   "metadata": {},
   "outputs": [],
   "source": [
    "prompt=PromptTemplate(template=prompt_template,input_variables=[\"context\",\"question\"])"
   ]
  },
  {
   "cell_type": "code",
   "execution_count": 25,
   "metadata": {},
   "outputs": [],
   "source": [
    "retrievalQA=RetrievalQA.from_chain_type(\n",
    "    llm=hf,\n",
    "    chain_type=\"stuff\",\n",
    "    retriever=retriever,\n",
    "    return_source_documents=True,\n",
    "    chain_type_kwargs={\"prompt\":prompt}\n",
    ")"
   ]
  },
  {
   "cell_type": "code",
   "execution_count": 26,
   "metadata": {},
   "outputs": [],
   "source": [
    "query=\"\"\"DIFFERENCES IN THE\n",
    "UNINSURED RATE BY STATE\n",
    "IN 2022\"\"\""
   ]
  },
  {
   "cell_type": "code",
   "execution_count": 27,
   "metadata": {},
   "outputs": [
    {
     "name": "stdout",
     "output_type": "stream",
     "text": [
      "\n",
      "Use the following piece of context to answer the question asked.\n",
      "Please try to provide the answer only based on the context\n",
      "\n",
      "8 U.S. Census Bureau\n",
      "which was the state’s uninsured \n",
      "rate in 2019, the year before it \n",
      "expanded Medicaid eligibility.22\n",
      "Declines in the uninsured rate in \n",
      "the majority of these states were \n",
      "related to changes in their public \n",
      "and private coverage rates. For \n",
      "seven of the states with lower \n",
      "uninsured rates in 2022, the dif-\n",
      "ference was driven by increases \n",
      "in private coverage. These states \n",
      "were Florida, Kansas, Mississippi, \n",
      "North Carolina, Ohio, South \n",
      "Carolina, and Texas.\n",
      "For seven states, the uninsured \n",
      "rate decrease was related to \n",
      "increases in public coverage with \n",
      "no corresponding change in the \n",
      "level of private coverage. These \n",
      "states were Alabama, California, \n",
      "Georgia, Illinois, Indiana, Michigan, \n",
      "and Oklahoma. In three states \n",
      "(Missouri, New York, and Virginia), \n",
      "it was shifts in coverage from pri-\n",
      "vate to public that contributed to \n",
      "the decline in their uninsured rates. \n",
      "The uninsured rate in expansion \n",
      "states as a group decreased from \n",
      "6.8 percent to 6.3 percent; non-\n",
      "\n",
      "36 The changes in the uninsured \n",
      "rates from 2021 to 2022 in Dallas-Fort \n",
      "Worth-Arlington, TX (1.0 percentage \n",
      "points); Denver-Aurora-Lakewood, CO \n",
      "(1.4 percentage points); Houston-The \n",
      "Woodlands-Sugar Land, TX (1.3 percentage \n",
      "points); and Orlando-Kissimmee-Sanford, FL \n",
      "(1.4 percentage points), were not statistically \n",
      "different from the change in Charlotte-\n",
      "Concord-Gastonia, NC-SC.\n",
      "\n",
      "erage (78.4 percent) in 2022, \n",
      "while New Mexico had the low-\n",
      "est private coverage rate (54.4 \n",
      "percent) (Figure 3).9\n",
      "• Utah had the lowest rate of \n",
      "public coverage in 2022 (22.2 \n",
      "percent), and New Mexico had \n",
      "the highest (Figure 4). \n",
      "• Twenty-seven states had lower \n",
      "uninsured rates in 2022 com-\n",
      "pared with 2021. Maine was the \n",
      "only state whose uninsured rate \n",
      "increased (6.6 percent in 2022, \n",
      "up from 5.7 percent in 2021) \n",
      "(Figure 1 and Appendix Table \n",
      "B-1).\n",
      "• From 2021 to 2022, 13 states \n",
      "reported increases in public cov-\n",
      "erage, with only Rhode Island \n",
      "reporting a decrease of 2.2 \n",
      "percentage points (Appendix \n",
      "Table B-3).\n",
      "8 The Current Population Survey Annual \n",
      "Social and Economic Supplement (CPS \n",
      "ASEC) is the leading source of national level \n",
      "estimates of health insurance coverage. For a \n",
      "comparison of ACS and CPS ASEC measures \n",
      "of health insurance coverage, refer to <www.\n",
      "census.gov/topics/health/health-insurance/\n",
      "guidance.html>.\n",
      "9 Respondents may have more than one\n",
      "Question:DIFFERENCES IN THE\n",
      "UNINSURED RATE BY STATE\n",
      "IN 2022\n",
      "\n",
      "Helpful Answers:\n",
      " 1.\n",
      " 2.\n",
      " 3.\n",
      " 4.\n",
      " 5.\n",
      " 6.\n",
      " 7.\n",
      " 8.\n",
      " 9.\n",
      " 10.\n",
      " 11.\n",
      " 12.\n",
      " 13.\n",
      " 14.\n",
      " 15.\n",
      " 16.\n",
      " 17.\n",
      " 18.\n",
      " 19.\n",
      " 20.\n",
      " 21.\n",
      " 22.\n",
      "\n"
     ]
    }
   ],
   "source": [
    "result = retrievalQA.invoke({\"query\": query})\n",
    "print(result['result'])"
   ]
  },
  {
   "cell_type": "code",
   "execution_count": null,
   "metadata": {},
   "outputs": [],
   "source": []
  }
 ],
 "metadata": {
  "kernelspec": {
   "display_name": ".venv",
   "language": "python",
   "name": "python3"
  },
  "language_info": {
   "codemirror_mode": {
    "name": "ipython",
    "version": 3
   },
   "file_extension": ".py",
   "mimetype": "text/x-python",
   "name": "python",
   "nbconvert_exporter": "python",
   "pygments_lexer": "ipython3",
   "version": "3.12.4"
  },
  "orig_nbformat": 4
 },
 "nbformat": 4,
 "nbformat_minor": 2
}
